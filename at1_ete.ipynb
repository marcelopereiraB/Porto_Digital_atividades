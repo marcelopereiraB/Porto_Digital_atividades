{
  "nbformat": 4,
  "nbformat_minor": 0,
  "metadata": {
    "colab": {
      "provenance": [],
      "authorship_tag": "ABX9TyPonq8/UKQcJi22fOJqVS2u",
      "include_colab_link": true
    },
    "kernelspec": {
      "name": "python3",
      "display_name": "Python 3"
    },
    "language_info": {
      "name": "python"
    }
  },
  "cells": [
    {
      "cell_type": "markdown",
      "metadata": {
        "id": "view-in-github",
        "colab_type": "text"
      },
      "source": [
        "<a href=\"https://colab.research.google.com/github/marcelopereiraB/Porto_Digital_atividades/blob/master/at1_ete.ipynb\" target=\"_parent\"><img src=\"https://colab.research.google.com/assets/colab-badge.svg\" alt=\"Open In Colab\"/></a>"
      ]
    },
    {
      "cell_type": "code",
      "execution_count": 14,
      "metadata": {
        "colab": {
          "base_uri": "https://localhost:8080/",
          "height": 132
        },
        "id": "7DPggSOJ_Yh-",
        "outputId": "3c043077-6f41-4bd6-f9d6-225f583314a4"
      },
      "outputs": [
        {
          "output_type": "error",
          "ename": "SyntaxError",
          "evalue": "ignored",
          "traceback": [
            "\u001b[0;36m  File \u001b[0;32m\"<ipython-input-14-cf865cfa62b2>\"\u001b[0;36m, line \u001b[0;32m17\u001b[0m\n\u001b[0;31m    ti = vagas(\"Procura-se empregada domestica\", \"1300\", 12/09/2022, \"Adlim\", \"empregada domestica\", \"auxiliar na casa etc etc etc\", \"ativo\")\u001b[0m\n\u001b[0m                                                             ^\u001b[0m\n\u001b[0;31mSyntaxError\u001b[0m\u001b[0;31m:\u001b[0m invalid token\n"
          ]
        }
      ],
      "source": [
        "#Nome = Marcelo pereira barbosa da silva e José carlos calvacanti\n",
        "#Turma = DS mod.2\n",
        "#Email = mpbs@etepd.com - jccfj@etepd.com\n",
        "\n",
        "import sqlite3\n",
        "\n",
        "class Vagas:\n",
        "  def __init__(self, titulo_vaga, salario, data_de_criacao, empresa, cargo, descricao_vaga, status):\n",
        "      self.titulo_vaga = titulo_vaga\n",
        "      self.salario = salario\n",
        "      self.data_de_criacao = data_de_criacao\n",
        "      self.empresa = empresa\n",
        "      self.cargo = cargo \n",
        "      self.descricao_vaga = descricao_vaga\n",
        "      self.status = status\n",
        "\n",
        "\n",
        "ti = Vagas(\"Procura-se empregada domestica\", \"1300\", 12/09/2022, \"Adlim\", \"empregada domestica\", \"auxiliar na casa etc etc etc\", \"ativo\")\n",
        "\n",
        "banco = sqlite3.connect('banco_teste.db')\n",
        "def criarTabela():\n",
        "    cursor = banco.cursor()\n",
        "    conn.execute(\"\"\"CREATE TABLE vagas(\n",
        "    titulo vaga text, salario text, data de criação date, empresa text,\n",
        "    cargo text, driscrição long text, status \"\"\")\n",
        "\n",
        "def add_vaga(vaga):\n",
        "    conn.execute(\"insert into vaga(vaga, atualizado) values (?, 0)\", (vaga))\n",
        "    conn.commit()\n",
        "\n",
        "def remover_tarefa(cd_vaga):\n",
        "    conn.execute(\"delete from vaga where cd_vaga = ?\", (cd_vaga))\n",
        "    conn.commit()\n",
        "\n",
        "def updateVaga(cd_vaga):\n",
        "  conn.execute(\"uptade vaga set atualizado = 1 where cd_vaga = ?\", (cd_vaga))\n",
        "  conn.commit()\n",
        "\n",
        "def get_tarefas(): \n",
        "    return conn.execute(\"retorna a tabela\")\n",
        "\n"
      ]
    }
  ]
}